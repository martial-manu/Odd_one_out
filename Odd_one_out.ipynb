{
 "cells": [
  {
   "cell_type": "code",
   "execution_count": 1,
   "id": "3afc19ff",
   "metadata": {},
   "outputs": [],
   "source": [
    "import gensim"
   ]
  },
  {
   "cell_type": "code",
   "execution_count": 12,
   "id": "30645543",
   "metadata": {},
   "outputs": [],
   "source": [
    "import numpy as np"
   ]
  },
  {
   "cell_type": "code",
   "execution_count": 3,
   "id": "cbd4d360",
   "metadata": {},
   "outputs": [],
   "source": [
    "keyed_vectors = gensim.models.KeyedVectors.load_word2vec_format('GoogleNews-vectors-negative300.bin.gz' , binary = True)"
   ]
  },
  {
   "cell_type": "markdown",
   "id": "7dfc844c",
   "metadata": {},
   "source": [
    "**KeyedVectors** - It is a object that essentially contains the mapping between words and embeddings , this model has loaded data from the file."
   ]
  },
  {
   "cell_type": "code",
   "execution_count": 4,
   "id": "757437e1",
   "metadata": {},
   "outputs": [],
   "source": [
    "from gensim.models import KeyedVectors\n",
    "from gensim.models import word2vec\n",
    "from sklearn.metrics.pairwise import cosine_similarity"
   ]
  },
  {
   "cell_type": "code",
   "execution_count": 7,
   "id": "68aca8aa",
   "metadata": {},
   "outputs": [],
   "source": [
    "v_apple = keyed_vectors['apple']\n",
    "v_mango = keyed_vectors['mango']\n",
    "v_orange = keyed_vectors['orange']"
   ]
  },
  {
   "cell_type": "code",
   "execution_count": 18,
   "id": "c214bba2",
   "metadata": {},
   "outputs": [
    {
     "data": {
      "text/plain": [
       "array([[1.]], dtype=float32)"
      ]
     },
     "execution_count": 18,
     "metadata": {},
     "output_type": "execute_result"
    }
   ],
   "source": [
    "cosine_similarity([v_mango] , [v_mango])"
   ]
  },
  {
   "cell_type": "markdown",
   "id": "66f2bd85",
   "metadata": {},
   "source": [
    "**Cosine similarity is less as the words hold a similar context**"
   ]
  },
  {
   "cell_type": "markdown",
   "id": "d5e82ef9",
   "metadata": {},
   "source": [
    "# Question : Finding the odd one out "
   ]
  },
  {
   "cell_type": "code",
   "execution_count": 48,
   "id": "40b19590",
   "metadata": {},
   "outputs": [],
   "source": [
    "def odd_one_out(words):\n",
    "    # Finding the mean vector\n",
    "    all_word_vectors = [keyed_vectors[w] for w in words]\n",
    "    \n",
    "    avg_vector = np.mean(all_word_vectors, axis = 0)\n",
    "    print(avg_vector.shape)\n",
    "    \n",
    "    # Iterate over every_word and find similarity\n",
    "    odd_one_out = None \n",
    "    minsim = 1.0\n",
    "    \n",
    "    for w in words:\n",
    "        sim = cosine_similarity([keyed_vectors[w]] , [avg_vector])\n",
    "        if sim < minsim:\n",
    "            minsim = sim \n",
    "            odd_one_out = w\n",
    "        print(\"similarity between word %s and average vector is %.2f\"%(w , sim))\n",
    "    return odd_one_out"
   ]
  },
  {
   "cell_type": "code",
   "execution_count": 49,
   "id": "b2c4e260",
   "metadata": {},
   "outputs": [],
   "source": [
    "# Input \n",
    "\n",
    "input_1 = [\"pineapple\" , \"mango\" , \"orange\" , \"dance\" , \"fruit\"]\n",
    "input_2 = [\"party\" , \"music\" , \"dj\" , \"saint\" , \"lights\"]\n",
    "input_3 = [\"eyes\" , \"ears\" , \"tongue\" , \"mouth\" , \"legs\"]\n"
   ]
  },
  {
   "cell_type": "code",
   "execution_count": 52,
   "id": "30b90050",
   "metadata": {},
   "outputs": [],
   "source": [
    "input_4 = [\"saint\" , \"pig\" , \"alcohol\" , \"books\"]"
   ]
  },
  {
   "cell_type": "code",
   "execution_count": 53,
   "id": "1c971ab8",
   "metadata": {
    "scrolled": true
   },
   "outputs": [
    {
     "name": "stdout",
     "output_type": "stream",
     "text": [
      "(300,)\n",
      "similarity between word saint and average vector is 0.63\n",
      "similarity between word pig and average vector is 0.54\n",
      "similarity between word alcohol and average vector is 0.59\n",
      "similarity between word books and average vector is 0.46\n"
     ]
    },
    {
     "data": {
      "text/plain": [
       "'books'"
      ]
     },
     "execution_count": 53,
     "metadata": {},
     "output_type": "execute_result"
    }
   ],
   "source": [
    "odd_one_out(input_4)"
   ]
  },
  {
   "cell_type": "code",
   "execution_count": null,
   "id": "1fe2dcf1",
   "metadata": {},
   "outputs": [],
   "source": []
  },
  {
   "cell_type": "code",
   "execution_count": null,
   "id": "3758631d",
   "metadata": {},
   "outputs": [],
   "source": []
  }
 ],
 "metadata": {
  "kernelspec": {
   "display_name": "Python 3 (ipykernel)",
   "language": "python",
   "name": "python3"
  },
  "language_info": {
   "codemirror_mode": {
    "name": "ipython",
    "version": 3
   },
   "file_extension": ".py",
   "mimetype": "text/x-python",
   "name": "python",
   "nbconvert_exporter": "python",
   "pygments_lexer": "ipython3",
   "version": "3.9.7"
  }
 },
 "nbformat": 4,
 "nbformat_minor": 5
}
